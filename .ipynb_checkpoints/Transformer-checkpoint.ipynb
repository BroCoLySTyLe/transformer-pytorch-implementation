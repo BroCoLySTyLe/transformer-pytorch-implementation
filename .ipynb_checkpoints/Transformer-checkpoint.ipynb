{
 "cells": [
  {
   "cell_type": "code",
   "execution_count": 1,
   "metadata": {},
   "outputs": [],
   "source": [
    "import torch.nn as nn\n",
    "import torch.nn.functional as F\n",
    "import torch\n",
    "import math "
   ]
  },
  {
   "cell_type": "code",
   "execution_count": 2,
   "metadata": {},
   "outputs": [],
   "source": [
    "class Single_attention(nn.Module):\n",
    "    \n",
    "    \"\"\"\n",
    "    Single attention computation class\n",
    "    Scaled dot product based attention\n",
    "    \"\"\"\n",
    "    \n",
    "    def forward(self, query, key, value, mask=None, dropout=None):\n",
    "        \n",
    "        scores = torch.matmul(query,key.transpose(-2,-1))/math.sqrt(query.size(-1))\n",
    "        \n",
    "        if mask is not None:\n",
    "            scores = scores.masked_fill(mask==0, -1e9)\n",
    "\n",
    "        attention_scores=F.softmax(scores, dim=-1)\n",
    "            \n",
    "        if dropout is not None:\n",
    "            attention_scores = dropout(attention_scores)\n",
    "        \n",
    "        attention_value=torch.matmul(attention_scores,value)\n",
    "        \n",
    "        return attention_value,attention_scores"
   ]
  },
  {
   "cell_type": "code",
   "execution_count": 3,
   "metadata": {},
   "outputs": [],
   "source": [
    "class Multhead_attention(nn.Module):\n",
    "    def __init__(self, num_head, hid_model, dropout=0.1):\n",
    "        super().__init__()\n",
    "\n",
    "        assert hid_model%num_head == 0\n",
    "        self.hid_head = hid_model//num_head\n",
    "        self.num_head = num_head\n",
    "        \n",
    "        #self.linear_layers = nn.ModuleList([nn.Linear(hid_model, hid_model) for _ in range(3)])\n",
    "        \n",
    "        self.query_matrix = nn.Linear(hid_model,hid_model)\n",
    "        self.key_matrix = nn.Linear(hid_model,hid_model)\n",
    "        self.value_matrix = nn.Linear(hid_model,hid_model)\n",
    "        \n",
    "        self.attention = Single_attention()\n",
    "        self.dropout = nn.Dropout(p=dropout)\n",
    "        \n",
    "        self.output_linear = nn.Linear(hid_model,hid_model)\n",
    "        \n",
    "    def forward(self, query, key, value, mask=None):\n",
    "        batch_size=query.size(0)\n",
    "        \n",
    "        #query, key, value = [l(x).view(batch_size, -1, self.num_head, self.hid_head).transpose(1, 2)\n",
    "                             #for l, x in zip(self.linear_layers, (query, key, value))]\n",
    "        \n",
    "        query = self.query_matrix(query).view(batch_size, -1, self.num_head, self.hid_head).transpose(1,2)\n",
    "        key = self.query_matrix(key).view(batch_size, -1, self.num_head, self.hid_head).transpose(1,2)\n",
    "        value = self.query_matrix(value).view(batch_size, -1, self.num_head, self.hid_head).transpose(1,2)\n",
    "        \n",
    "        attention_value, attention_scores = self.attention(query, key, value, mask=mask, dropout=self.dropout)\n",
    "        attention_value = attention_value.transpose(1,2).contiguous().view(batch_size,-1,self.num_head*self.hid_head)\n",
    "        \n",
    "        output = self.output_linear(attention_value)\n",
    "        \n",
    "        return output"
   ]
  },
  {
   "cell_type": "code",
   "execution_count": 4,
   "metadata": {},
   "outputs": [],
   "source": [
    "from feed_forward import PositionwiseFeedForward\n",
    "from sublayer import SublayerConnection\n",
    "\n",
    "class Transformer_block(nn.Module):\n",
    "    def __init__(self, hid_model, num_head, hid_ff, dropout):\n",
    "        super().__init__()\n",
    "        \n",
    "        self.attention = Multhead_attention(num_head=num_head, hid_model=hid_model, dropout=dropout)\n",
    "        self.feed_forward = PositionwiseFeedForward(d_model=hid_model, d_ff=hid_ff, dropout=dropout)\n",
    "        self.input_sublayer = SublayerConnection(size=hid_model, dropout=dropout)\n",
    "        self.output_sublayer = SublayerConnection(size=hid_model, dropout=dropout)\n",
    "        self.dropout = nn.Dropout(p=dropout)\n",
    "    \n",
    "    \n",
    "    def forward(self, x, mask):\n",
    "        x = self.input_sublayer(x, lambda _x: self.attention(_x, _x, _x, mask=mask))\n",
    "        x = self.output_sublayer(x, self.feed_forward)\n",
    "        x = self.dropout(x)\n",
    "        \n",
    "        return x\n",
    "\n",
    "        \n",
    "        \n",
    "        "
   ]
  },
  {
   "cell_type": "code",
   "execution_count": 21,
   "metadata": {},
   "outputs": [],
   "source": [
    "input_vector = torch.rand(5,5,300)\n",
    "mask = torch.Tensor([[[[1,1,1,1,0],[1,1,1,1,0],[1,1,1,1,0],[1,1,1,1,0],[0,0,0,0,0]]],[[[1,1,1,1,0],[1,1,1,1,0],[1,1,1,1,0],[1,1,1,1,0],[0,0,0,0,0]]],[[[1,1,1,1,0],[1,1,1,1,0],[1,1,1,1,0],[1,1,1,1,0],[0,0,0,0,0]]],[[[1,1,1,1,0],[1,1,1,1,0],[1,1,1,1,0],[1,1,1,1,0],[0,0,0,0,0]]],[[[1,1,1,1,0],[1,1,1,1,0],[1,1,1,1,0],[1,1,1,1,0],[0,0,0,0,0]]]])\n",
    "\n",
    "\n"
   ]
  },
  {
   "cell_type": "code",
   "execution_count": 24,
   "metadata": {},
   "outputs": [],
   "source": [
    "tfb = Transformer_block(300,10,2000,0.1)"
   ]
  },
  {
   "cell_type": "code",
   "execution_count": 26,
   "metadata": {},
   "outputs": [
    {
     "data": {
      "text/plain": [
       "tensor([[[ 0.3810,  0.8385, -0.5023,  ...,  1.1234,  0.6241,  0.1547],\n",
       "         [ 0.2362,  0.7687,  0.2799,  ...,  1.1560,  0.7709,  1.0626],\n",
       "         [ 0.1515,  0.0000,  0.0000,  ..., -0.1523,  1.0768,  0.7858],\n",
       "         [ 0.4177,  0.8347,  0.3368,  ..., -0.0457,  0.1850,  0.7222],\n",
       "         [ 0.4843,  0.2518,  0.7744,  ...,  0.0000,  1.3551,  0.7600]],\n",
       "\n",
       "        [[ 0.5796,  1.3251,  0.3713,  ...,  0.4648,  0.0000,  0.9455],\n",
       "         [ 0.3733, -0.0198,  0.1568,  ...,  1.7718,  2.1061,  0.1078],\n",
       "         [ 0.6474,  0.5058,  0.2743,  ...,  0.4379,  0.5351,  0.1076],\n",
       "         [ 1.0242,  0.9305,  1.4672,  ...,  1.3323,  1.2964,  0.4655],\n",
       "         [ 0.4504,  0.1567,  0.6198,  ...,  0.4826,  0.4744,  0.8823]],\n",
       "\n",
       "        [[ 0.5228,  0.0000, -0.2845,  ...,  0.6848,  0.0000,  0.2633],\n",
       "         [ 0.3443, -0.5753,  0.1803,  ...,  0.3606,  0.0000,  0.0000],\n",
       "         [ 0.0000,  0.1812,  0.0000,  ...,  0.8450,  0.1984,  0.4250],\n",
       "         [ 0.6007,  1.1472, -0.2138,  ...,  0.4108,  0.0974,  0.0000],\n",
       "         [-0.1375,  0.5696,  0.0420,  ...,  0.7739,  0.3368,  0.5947]],\n",
       "\n",
       "        [[-0.6571,  1.0717,  0.8340,  ...,  0.0384,  0.8724,  0.1647],\n",
       "         [ 1.6835,  0.1137,  1.0072,  ...,  0.6653,  0.0000,  1.3348],\n",
       "         [ 0.2150,  0.1688,  0.9939,  ...,  0.1432, -0.0914,  0.6972],\n",
       "         [ 0.8795, -0.0256,  0.9096,  ..., -0.1503,  0.7088,  0.8117],\n",
       "         [ 0.0721,  1.0354,  0.0000,  ...,  0.3242,  0.2520,  0.0000]],\n",
       "\n",
       "        [[ 0.2511,  0.3834,  0.9092,  ...,  0.6553,  0.0321,  0.0808],\n",
       "         [ 0.0038, -0.6841,  0.3961,  ..., -0.2269,  1.6663,  0.6836],\n",
       "         [-0.0000, -0.2037,  0.9551,  ...,  0.4285,  0.6783,  0.7150],\n",
       "         [ 0.0754, -0.0405,  0.0632,  ...,  0.0000,  0.8104,  0.4978],\n",
       "         [-0.0000,  0.2262,  0.0857,  ...,  0.0516,  1.3070, -0.2985]]],\n",
       "       grad_fn=<MulBackward0>)"
      ]
     },
     "execution_count": 26,
     "metadata": {},
     "output_type": "execute_result"
    }
   ],
   "source": []
  },
  {
   "cell_type": "code",
   "execution_count": null,
   "metadata": {},
   "outputs": [],
   "source": []
  }
 ],
 "metadata": {
  "kernelspec": {
   "display_name": "Python 3",
   "language": "python",
   "name": "python3"
  },
  "language_info": {
   "codemirror_mode": {
    "name": "ipython",
    "version": 3
   },
   "file_extension": ".py",
   "mimetype": "text/x-python",
   "name": "python",
   "nbconvert_exporter": "python",
   "pygments_lexer": "ipython3",
   "version": "3.8.5"
  }
 },
 "nbformat": 4,
 "nbformat_minor": 4
}
