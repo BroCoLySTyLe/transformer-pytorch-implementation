{
 "cells": [
  {
   "cell_type": "code",
   "execution_count": 1,
   "metadata": {},
   "outputs": [],
   "source": [
    "import torch.nn as nn\n",
    "import torch.nn.functional as F\n",
    "import torch\n",
    "import math "
   ]
  },
  {
   "cell_type": "code",
   "execution_count": 2,
   "metadata": {},
   "outputs": [],
   "source": [
    "class Single_attention(nn.Module):\n",
    "    \n",
    "    \"\"\"\n",
    "    Single attention computation class\n",
    "    Scaled dot product based attention\n",
    "    \"\"\"\n",
    "    \n",
    "    def forward(self, query, key, value, mask=None, dropout=None):\n",
    "        \n",
    "        scores = torch.matmul(query,key.transpose(-2,-1))/math.sqrt(query.size(-1))\n",
    "        \n",
    "        if mask is not None:\n",
    "            scores = scores.masked_fill(mask==0, -1e9)\n",
    "\n",
    "        attention_scores=F.softmax(scores, dim=-1)\n",
    "            \n",
    "        if dropout is not None:\n",
    "            attention_scores = dropout(attention_scores)\n",
    "        \n",
    "        attention_value=torch.matmul(attention_scores,value)\n",
    "        \n",
    "        return attention_value,attention_scores"
   ]
  },
  {
   "cell_type": "code",
   "execution_count": 3,
   "metadata": {},
   "outputs": [],
   "source": [
    "class Multhead_attention(nn.Module):\n",
    "    def __init__(self, num_head, hid_model, dropout=0.1):\n",
    "        super().__init__()\n",
    "\n",
    "        assert hid_model%num_head == 0\n",
    "        self.hid_head = hid_model//num_head\n",
    "        self.num_head = num_head\n",
    "        \n",
    "        #self.linear_layers = nn.ModuleList([nn.Linear(hid_model, hid_model) for _ in range(3)])\n",
    "        \n",
    "        self.query_matrix = nn.Linear(hid_model,hid_model)\n",
    "        self.key_matrix = nn.Linear(hid_model,hid_model)\n",
    "        self.value_matrix = nn.Linear(hid_model,hid_model)\n",
    "        \n",
    "        self.attention = Single_attention()\n",
    "        self.dropout = nn.Dropout(p=dropout)\n",
    "        \n",
    "        self.output_linear = nn.Linear(hid_model,hid_model)\n",
    "        \n",
    "    def forward(self, query, key, value, mask=None):\n",
    "        batch_size=query.size(0)\n",
    "        \n",
    "        #query, key, value = [l(x).view(batch_size, -1, self.num_head, self.hid_head).transpose(1, 2)\n",
    "                             #for l, x in zip(self.linear_layers, (query, key, value))]\n",
    "        \n",
    "        query = self.query_matrix(query).view(batch_size, -1, self.num_head, self.hid_head).transpose(1,2)\n",
    "        key = self.query_matrix(key).view(batch_size, -1, self.num_head, self.hid_head).transpose(1,2)\n",
    "        value = self.query_matrix(value).view(batch_size, -1, self.num_head, self.hid_head).transpose(1,2)\n",
    "        \n",
    "        attention_value, attention_scores = self.attention(query, key, value, mask=mask, dropout=self.dropout)\n",
    "        attention_value = attention_value.transpose(1,2).contiguous().view(batch_size,-1,self.num_head*self.hid_head)\n",
    "        \n",
    "        output = self.output_linear(attention_value)\n",
    "        \n",
    "        return output"
   ]
  },
  {
   "cell_type": "code",
   "execution_count": 4,
   "metadata": {},
   "outputs": [],
   "source": [
    "from feed_forward import PositionwiseFeedForward\n",
    "from sublayer import SublayerConnection\n",
    "\n",
    "class Transformer_block(nn.Module):\n",
    "    def __init__(self, hid_model, num_head, hid_ff, dropout):\n",
    "        super().__init__()\n",
    "        \n",
    "        self.attention = Multhead_attention(num_head=num_head, hid_model=hid_model, dropout=dropout)\n",
    "        self.feed_forward = PositionwiseFeedForward(d_model=hid_model, d_ff=hid_ff, dropout=dropout)\n",
    "        self.input_sublayer = SublayerConnection(size=hid_model, dropout=dropout)\n",
    "        self.output_sublayer = SublayerConnection(size=hid_model, dropout=dropout)\n",
    "        self.dropout = nn.Dropout(p=dropout)\n",
    "    \n",
    "    \n",
    "    def forward(self, x, mask):\n",
    "        x = self.input_sublayer(x, lambda _x: self.attention(_x, _x, _x, mask=mask))\n",
    "        x = self.output_sublayer(x, self.feed_forward)\n",
    "        x = self.dropout(x)\n",
    "        \n",
    "        return x\n",
    "\n",
    "        \n",
    "        \n",
    "        "
   ]
  },
  {
   "cell_type": "code",
   "execution_count": 14,
   "metadata": {},
   "outputs": [],
   "source": [
    "class MultiLayerTransformer(nn.Module):\n",
    "    \"\"\"\n",
    "    hid_model, num_layers, num_head, dropout are same as BERT\n",
    "    \"\"\"\n",
    "    def __init__(self, hid_model=768, num_layers=12, num_head=12, dropout=0.1):\n",
    "        super().__init__()\n",
    "        \n",
    "        self.hid_model = hid_model\n",
    "        self.num_layers = num_layers\n",
    "        self.num_head = num_head \n",
    "        self.dropout = dropout\n",
    "\n",
    "        # paper noted they used 4*hidden_size for ff_network_hidden_size\n",
    "        self.feed_forward_hidden = self.hid_model * 4\n",
    "        self.transformer_blocks = nn.ModuleList(\n",
    "            [Transformer_block(self.hid_model,self.num_head,self.hid_model*4,self.dropout) for _ in range(self.num_layers)])\n",
    "        \n",
    "    def forward(self,x,mask):\n",
    "        for transformer_block in self.transformer_blocks :\n",
    "            x=transformer_block(x,mask)\n",
    "            \n",
    "        return x"
   ]
  },
  {
   "cell_type": "markdown",
   "metadata": {},
   "source": [
    "# TEST "
   ]
  },
  {
   "cell_type": "code",
   "execution_count": 12,
   "metadata": {},
   "outputs": [],
   "source": [
    "input_vector = torch.rand(5,5,300)\n",
    "mask = torch.Tensor([[[[1,1,1,1,0],[1,1,1,1,0],[1,1,1,1,0],[1,1,1,1,0],[0,0,0,0,0]]],[[[1,1,1,1,0],[1,1,1,1,0],[1,1,1,1,0],[1,1,1,1,0],[0,0,0,0,0]]],[[[1,1,1,1,0],[1,1,1,1,0],[1,1,1,1,0],[1,1,1,1,0],[0,0,0,0,0]]],[[[1,1,1,1,0],[1,1,1,1,0],[1,1,1,1,0],[1,1,1,1,0],[0,0,0,0,0]]],[[[1,1,1,1,0],[1,1,1,1,0],[1,1,1,1,0],[1,1,1,1,0],[0,0,0,0,0]]]])\n",
    "\n",
    "\n"
   ]
  },
  {
   "cell_type": "code",
   "execution_count": 6,
   "metadata": {},
   "outputs": [],
   "source": [
    "tfb = Transformer_block(300,10,2000,0.1)"
   ]
  },
  {
   "cell_type": "code",
   "execution_count": 7,
   "metadata": {},
   "outputs": [],
   "source": [
    "output = tfb(input_vector,mask=mask)"
   ]
  },
  {
   "cell_type": "code",
   "execution_count": 8,
   "metadata": {},
   "outputs": [
    {
     "data": {
      "text/plain": [
       "torch.Size([5, 5, 300])"
      ]
     },
     "execution_count": 8,
     "metadata": {},
     "output_type": "execute_result"
    }
   ],
   "source": [
    "output.shape"
   ]
  },
  {
   "cell_type": "code",
   "execution_count": 17,
   "metadata": {},
   "outputs": [],
   "source": [
    "mtf = MultiLayerTransformer(hid_model=300)"
   ]
  },
  {
   "cell_type": "code",
   "execution_count": 19,
   "metadata": {},
   "outputs": [
    {
     "data": {
      "text/plain": [
       "torch.Size([5, 5, 300])"
      ]
     },
     "execution_count": 19,
     "metadata": {},
     "output_type": "execute_result"
    }
   ],
   "source": [
    "mtf(input_vector,mask).shape"
   ]
  },
  {
   "cell_type": "code",
   "execution_count": null,
   "metadata": {},
   "outputs": [],
   "source": []
  }
 ],
 "metadata": {
  "kernelspec": {
   "display_name": "Python 3",
   "language": "python",
   "name": "python3"
  },
  "language_info": {
   "codemirror_mode": {
    "name": "ipython",
    "version": 3
   },
   "file_extension": ".py",
   "mimetype": "text/x-python",
   "name": "python",
   "nbconvert_exporter": "python",
   "pygments_lexer": "ipython3",
   "version": "3.8.5"
  }
 },
 "nbformat": 4,
 "nbformat_minor": 4
}
